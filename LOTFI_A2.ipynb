{
 "cells": [
  {
   "attachments": {},
   "cell_type": "markdown",
   "metadata": {},
   "source": [
    "# A2 Data Sources and Biases 🖥️\n",
    "\n",
    "#### Welcome to A2! Please enter answers to the questions in the specified Markdown cells below. When you are done with the assignment, export this file as a PDF and submit to Canvas."
   ]
  },
  {
   "attachments": {},
   "cell_type": "markdown",
   "metadata": {},
   "source": [
    "### Learning Objective 🌱\n",
    "In this assignment, you will explore some useful sources of healthcare data and structured biomedical knowledge. There is a vaste trove of resources available to you, and it is important to become familiar with digging through documentation to find what you need for a given project so you don't end up re-inventing the wheel."
   ]
  },
  {
   "attachments": {},
   "cell_type": "markdown",
   "metadata": {},
   "source": [
    "### Resources 📖\n",
    "- Refer to the slides from Lecture 3 (Health Care Utilization Databases) for examples of databases and their characteristics.\n",
    "\n",
    "- The [Stanford Data Farm](https://redivis.com/Stanford) provides detail on more than 150 healthcare-related databases available to Stanford investigators, including some from this homework. This is a very useful resource for accessing datasets that you can use in your own research!\n",
    "\n"
   ]
  },
  {
   "attachments": {},
   "cell_type": "markdown",
   "metadata": {},
   "source": [
    "# 1. Exploring Healthcare Data Sources 🏥 (28 points)"
   ]
  },
  {
   "attachments": {},
   "cell_type": "markdown",
   "metadata": {},
   "source": [
    "### Instructions ☑️\n",
    "**For each of the data sources below, please provide the following:**\n",
    "\n",
    "- `1-Sentence Summary`: Provide a brief summary describing what the resources is\n",
    "\n",
    "- `Unit(s) of Observation`: The entity or element that is being studied, observed, or recorded in the resource\n",
    "\n",
    "- `Data Element(s)`: (aka Data Item or Data Attribute) is a specific piece of information or characteristic that is being collected, stored, and managed that describes each unit of observation.\n",
    "\n",
    "- `Time Span`: The time span that the records in the resource cover\n",
    "\n",
    "- `Number of Records`: The number of records in the resource.\n",
    "\n",
    "- `Creator(s) or Curating Institution`: The entity responsible for creating/ curating the resource\n",
    "\n",
    "- `Potential Linkages`: Other resources that could be easily linked or are designed to be used with this resource. Generally these are resources that are easily linked by common identifiers. For example: a PubMedID or patient identifier (like a SSN) may be used to link entries between databases.\n",
    "\n",
    "\n",
    "A completed example for the BioPortal resource is included below."
   ]
  },
  {
   "attachments": {},
   "cell_type": "markdown",
   "metadata": {},
   "source": [
    "## `Example:` BIOPORTAL (`0 Points`)"
   ]
  },
  {
   "attachments": {},
   "cell_type": "markdown",
   "metadata": {},
   "source": [
    "##### `1-Sentence Summary`\n",
    "<span style=\"color:purple;\">BioPortal is a repository of biomedical ontologies and mappings between ontologies and concepts, which also offers a software service to recommend ontologies and annotate resources with ontology concepts, as well as a resource index of existing annotations.</span>"
   ]
  },
  {
   "attachments": {},
   "cell_type": "markdown",
   "metadata": {},
   "source": [
    "##### `Unit(s) of Observation`\n",
    "<span style=\"color:purple;\">ontology, concept, concept-concept mapping, ontology-ontology mapping</span>"
   ]
  },
  {
   "attachments": {},
   "cell_type": "markdown",
   "metadata": {},
   "source": [
    "##### `Data Element(s)`\n",
    "<span style=\"color:purple;\">ontology: acronym, visibility, Bioportal PURL, description, status, format, contact, home page, publications page, documentation page, categories, groups, license information, number of classes, number of individuals, number of properties, maximum depth, maximum number of children, average number of children, classes with a single child, classes with more than 25 children, classes with no definition, visits, release date, upload date, projects using ontology. Concept: ID, preferred name, subClassOf, ontology-specific values</span>"
   ]
  },
  {
   "attachments": {},
   "cell_type": "markdown",
   "metadata": {},
   "source": [
    "##### `Time Span`\n",
    "<span style=\"color:purple;\">2005-2016</span>"
   ]
  },
  {
   "attachments": {},
   "cell_type": "markdown",
   "metadata": {},
   "source": [
    "##### `Number of Records`\n",
    "<span style=\"color:purple;\">Ontologies: 535; classes: 7,338,810; resources indexed: 48; indexed records: 39,359,542; direct annotations: 95,468,433,792; direct plus expanded annotations: 144,789,582,932.</span>"
   ]
  },
  {
   "attachments": {},
   "cell_type": "markdown",
   "metadata": {},
   "source": [
    "##### `Creator(s) or Curating Institution`\n",
    "<span style=\"color:purple;\">National Center for Biomedical Ontology</span>"
   ]
  },
  {
   "attachments": {},
   "cell_type": "markdown",
   "metadata": {},
   "source": [
    "##### `Potential Linkages`\n",
    "<span style=\"color:purple;\">UMLS terminologies; the 48 resources indexed with concepts from BioPortal; text that contains mentions of concepts in any ontology available through BioPortal</span>"
   ]
  },
  {
   "attachments": {},
   "cell_type": "markdown",
   "metadata": {},
   "source": [
    "---"
   ]
  },
  {
   "attachments": {},
   "cell_type": "markdown",
   "metadata": {},
   "source": [
    "## `1.1:` ClinicalTrials.gov (`7 points`)"
   ]
  },
  {
   "attachments": {},
   "cell_type": "markdown",
   "metadata": {},
   "source": [
    "#### `1-Sentence Summary` (`1 point`)\n",
    "<span style=\"color:blue;\"> ClinicalTrials.gov is a publicly and privately-supported online database of clinical research studies and their basic results.  </span>"
   ]
  },
  {
   "attachments": {},
   "cell_type": "markdown",
   "metadata": {},
   "source": [
    "#### `Unit(s) of Observation` (`1 point`)\n",
    "<span style=\"color:blue;\"> Study records / clinical study </span>"
   ]
  },
  {
   "attachments": {},
   "cell_type": "markdown",
   "metadata": {},
   "source": [
    "#### `Data Element(s)` (`1 point`)\n",
    "<span style=\"color:blue;\"> Each record includes information about the study, such as: Condition/disease, Intervention/treatment, Eligibility criteria (age, sex, healthy volunteers, etc.), Study phase, Study type, Study status, Sponsor, Collaborators, Study start/completion dates, Outcome measures (primary & secondary), Results (if available), title, factility name\n",
    "\n",
    " </span>"
   ]
  },
  {
   "attachments": {},
   "cell_type": "markdown",
   "metadata": {},
   "source": [
    "#### `Time Span` (`1 point`)\n",
    "<span style=\"color:blue;\"> 2000-2025 (launched in 2000) </span>"
   ]
  },
  {
   "attachments": {},
   "cell_type": "markdown",
   "metadata": {},
   "source": [
    "#### `Number of Records` (`1 point`)\n",
    "<span style=\"color:blue;\"> 555,508 (searched for 'all') </span>"
   ]
  },
  {
   "attachments": {},
   "cell_type": "markdown",
   "metadata": {},
   "source": [
    "#### `Creator(s) or Curating Institution` (`1 point`)\n",
    "<span style=\"color:blue;\"> NIH National Library of Medicine </span>"
   ]
  },
  {
   "attachments": {},
   "cell_type": "markdown",
   "metadata": {},
   "source": [
    "#### `Potential Linkages` (`1 point`)\n",
    "<span style=\"color:blue;\"> ClinicalTrials.gov identifier (NCT number): a unique ID code given to each clinical study upon registration at ClinicalTrials.gov. Some other linkages include: UMLS medical terminology, drug databases (drug bank linked by intervention), FDA device approvals by intervention, PubMed, and by geographic location.  </span>"
   ]
  },
  {
   "attachments": {},
   "cell_type": "markdown",
   "metadata": {},
   "source": [
    "---"
   ]
  },
  {
   "attachments": {},
   "cell_type": "markdown",
   "metadata": {},
   "source": [
    "## `1.2:` FDA Adverse Event Reporting System (FAERS) (`7 points`)"
   ]
  },
  {
   "attachments": {},
   "cell_type": "markdown",
   "metadata": {},
   "source": [
    "#### `1-Sentence Summary` (`1 point`)\n",
    "<span style=\"color:blue;\"> FAERS is a database of surveillance data that contains adverse events reports, medication error reports and product quality complains that result in adverse events that were submitted to the FDA. \n",
    "\n",
    " </span>"
   ]
  },
  {
   "attachments": {},
   "cell_type": "markdown",
   "metadata": {},
   "source": [
    "#### `Unit(s) of Observation` (`1 point`)\n",
    "<span style=\"color:blue;\"> Adverse event report itself (contains many different data elements) </span>"
   ]
  },
  {
   "attachments": {},
   "cell_type": "markdown",
   "metadata": {},
   "source": [
    "#### `Data Element(s)` (`1 point`)\n",
    "<span style=\"color:blue;\"> \n",
    "\n",
    "Suspect drug/biologic names, patient demographics (age, sex, weight), indications (reason for drug use), reported adverse events (MedDRA terms), seriousness of event (hospitalization, disability, death, etc.), outcome of the adverse event, case number and report date, reporter type (healthcare professional, consumer, etc.), case ID </span>"
   ]
  },
  {
   "attachments": {},
   "cell_type": "markdown",
   "metadata": {},
   "source": [
    "#### `Time Span` (`1 point`)\n",
    "<span style=\"color:blue;\"> 1968-2018 </span>"
   ]
  },
  {
   "attachments": {},
   "cell_type": "markdown",
   "metadata": {},
   "source": [
    "#### `Number of Records` (`1 point`)\n",
    "<span style=\"color:blue;\"> 31,947,342  </span>"
   ]
  },
  {
   "attachments": {},
   "cell_type": "markdown",
   "metadata": {},
   "source": [
    "#### `Creator(s) or Curating Institution` (`1 point`)\n",
    "<span style=\"color:blue;\"> Food and Drug Administration (FDA) </span>"
   ]
  },
  {
   "attachments": {},
   "cell_type": "markdown",
   "metadata": {},
   "source": [
    "#### `Potential Linkages` (`1 point`)\n",
    "<span style=\"color:blue;\"> Potential linkages include: UMLS terminologies (by events MedDRA code), drugbank (by drug name), EHR by events, can also utilize PubMed by events and drug Nme </span>"
   ]
  },
  {
   "attachments": {},
   "cell_type": "markdown",
   "metadata": {},
   "source": [
    "---"
   ]
  },
  {
   "cell_type": "markdown",
   "metadata": {},
   "source": [
    "## `1.3:` Medical Information Mart for Intensive Care (MIMIC) (`7 points`)"
   ]
  },
  {
   "cell_type": "markdown",
   "metadata": {},
   "source": [
    "#### `1-Sentence Summary` (`1 point`)\n",
    "<span style=\"color:blue;\"> MIMIC is a database of de-identified health-related data from more than 40,000 patients who stayed in critial care units of the Beth Israel Deaconess Medical Center between 2001-2012. (answers based on MIMIC-3)\n",
    "\n",
    " </span>"
   ]
  },
  {
   "cell_type": "markdown",
   "metadata": {},
   "source": [
    "#### `Unit(s) of Observation` (`1 point`)\n",
    "<span style=\"color:blue;\"> Patient records from individual ICU stays </span>"
   ]
  },
  {
   "cell_type": "markdown",
   "metadata": {},
   "source": [
    "#### `Data Element(s)` (`1 point`)\n",
    "<span style=\"color:blue;\"> Vital signs, medications, laboratory measurements, observations and notes charted by care providers, fluid balance, procedure codes, diagnostic codes, imaging reports, hospital length of stay, survival data, patient demographics, test results, ICD codes, caregiver notes </span>"
   ]
  },
  {
   "cell_type": "markdown",
   "metadata": {},
   "source": [
    "#### `Time Span` (`1 point`)\n",
    "<span style=\"color:blue;\"> 2001-2012 (MIMIC-3) </span>"
   ]
  },
  {
   "cell_type": "markdown",
   "metadata": {},
   "source": [
    "#### `Number of Records` (`1 point`)\n",
    "<span style=\"color:blue;\"> 4.4 million events, 46,000 patients\n",
    " </span>"
   ]
  },
  {
   "cell_type": "markdown",
   "metadata": {},
   "source": [
    "#### `Creator(s) or Curating Institution` (`1 point`)\n",
    "<span style=\"color:blue;\"> MIT Laboratory for Computational Physiology </span>"
   ]
  },
  {
   "cell_type": "markdown",
   "metadata": {},
   "source": [
    "#### `Potential Linkages` (`1 point`)\n",
    "<span style=\"color:blue;\"> Potential linkages include: UMLS terminologies thorugh ICD, CPT, CRG, drug databases through drug name or drug codes </span>"
   ]
  },
  {
   "cell_type": "markdown",
   "metadata": {},
   "source": [
    "---"
   ]
  },
  {
   "attachments": {},
   "cell_type": "markdown",
   "metadata": {},
   "source": [
    "## `1.4:` National Inpatient Sample (NIS) (`7 points`)"
   ]
  },
  {
   "attachments": {},
   "cell_type": "markdown",
   "metadata": {},
   "source": [
    "#### `1-Sentence Summary` (`1 point`)\n",
    "<span style=\"color:blue;\"> National Inpatient Sample is the largest publicly-available all-payer inpatient care database in the US. NIS consists of longitudinal hospital inpatient databases with access to charges, qualities, and outcomes.  </span>"
   ]
  },
  {
   "attachments": {},
   "cell_type": "markdown",
   "metadata": {},
   "source": [
    "#### `Unit(s) of Observation` (`1 point`)\n",
    "<span style=\"color:blue;\"> Hospital stays </span>"
   ]
  },
  {
   "attachments": {},
   "cell_type": "markdown",
   "metadata": {},
   "source": [
    "#### `Data Element(s)` (`1 point`)\n",
    "<span style=\"color:blue;\"> - International Classification of Diseases, Ninth Revision, Clinical Modification (ICD-9-CM) diagnosis, procedure, and external cause of injury codes prior to October 1, 2015\n",
    "- International Classification of Diseases, Tenth Revision, Clinical Modification/Procedure Coding System (ICD-10-CM/PCS) diagnosis, procedures, and external cause of morbidity codes beginning October 1, 2015\n",
    "- Patient demographic characteristics (e.g., sex, age, race, median household income for ZIP Code)\n",
    "- Hospital characteristics (e.g., ownership)\n",
    "- Expected payment source\n",
    "- Total charges\n",
    "- Discharge status\n",
    "- Length of stay\n",
    "- Severity and comorbidity measures\n",
    "- primary and secondary outcomes, hospital characteristics </span>"
   ]
  },
  {
   "attachments": {},
   "cell_type": "markdown",
   "metadata": {},
   "source": [
    "#### `Time Span` (`1 point`)\n",
    "<span style=\"color:blue;\"> 1988-2017 </span>"
   ]
  },
  {
   "attachments": {},
   "cell_type": "markdown",
   "metadata": {},
   "source": [
    "#### `Number of Records` (`1 point`)\n",
    "<span style=\"color:blue;\"> More than 7 million hospital stays per year (unweighted dataset), 35 million hospitalizations nationally (weighted data set)\n",
    " </span>"
   ]
  },
  {
   "attachments": {},
   "cell_type": "markdown",
   "metadata": {},
   "source": [
    "#### `Creator(s) or Curating Institution` (`1 point`)\n",
    "<span style=\"color:blue;\"> Agency for Healthcare Research and Quality (AHRQ) </span>"
   ]
  },
  {
   "attachments": {},
   "cell_type": "markdown",
   "metadata": {},
   "source": [
    "#### `Potential Linkages` (`1 point`)\n",
    "<span style=\"color:blue;\"> UMLS terminologies via ICD codes, geogrpahic data, other data sets such as HCUP datasets via ICD codes, drug codes, year, etc </span>"
   ]
  },
  {
   "attachments": {},
   "cell_type": "markdown",
   "metadata": {},
   "source": [
    "---"
   ]
  },
  {
   "attachments": {},
   "cell_type": "markdown",
   "metadata": {},
   "source": [
    "# 2. Databases and Schemas 💿 (32 points)"
   ]
  },
  {
   "attachments": {},
   "cell_type": "markdown",
   "metadata": {},
   "source": [
    "### Instructions ☑️\n",
    "**The purpose of these questions is to broaden your understanding of databases and how they are organized. For each question, read the prompt and fill out the requested specific information of interest.**"
   ]
  },
  {
   "attachments": {},
   "cell_type": "markdown",
   "metadata": {},
   "source": [
    "## `2.1:  ` (`22 points`)\n",
    "\n",
    ">You are using [MIMIC data](https://mimic.physionet.org/gettingstarted/overview/). While browsing the `NOTEEVENTS` table, you find a note that contains an interesting hypothesis about the cause of diabetic symptoms in the patient it describes. You wonder if the doctor who wrote the note has experience treating diabetic patients.\n",
    "\n",
    "- In simple english, describe how you could find out if the doctor who wrote that note has ever previously written a note about a patient with an pre-existing ICD9 diagnosis for diabetes? \n",
    "\n",
    "- Please explicitly mention which tables, features, and any time filtering you would use to achieve this task. We expect specific details for full credit.\n",
    "\n",
    "<span style=\"color:blue;\"> First, we want to start with the NOTESEVENT table to identify the specific doctor (i.e., the author of the note). To do so, we can locate the note of interest by ROW_ID then read its corresponding CG_ID and CHARTDATE (the date the note was written). We can then join CAREGOVERS and CG_ID to get the doctor's name. Next, we want to find all earlier notes by that same author. In the NOTEEVENTS table, we want to filter and find all rows with the same CG_ID and a CHARTDATE earlier than your note's chartdate. Next, we want to find out if any of those patients had diabetes before the notes were written about them. To do so, we can collect the distinct HADM_ID (hospital admission IDs) of those earlier notes and check for pre-existing diabetes diagnoses in those admissions. Join each of those HADM_IDs to Diagnoses_ICD on HADM_ID. Then, filter Diagnoses_ICD for only '250' which corresponds with a diabetes diagnosis. To be sure the diagnosis pre-dated the note, another possibility is to join ADMISSIONS on HADM_ID and require ADMISSIONS.ADMITTIME < your note's chartname. After these steps, if the query returns any rows, this means that the answer is yes, the doctor who wrote that note has previously written a note about a patient with a pre-existing ICD9 diagnosis for diabetes. Otherwise, the answer is no.  </span>"
   ]
  },
  {
   "attachments": {},
   "cell_type": "markdown",
   "metadata": {},
   "source": [
    "## `2.2:  ` (`10 points`)\n",
    "\n",
    ">You have access to a large database consisting of three tables of data on patients:\n",
    "- demographics (`person_ID`, `date_of_birth`), \n",
    "- visit history (`person_ID`, `date_of_visit`, `provider_seen`)\n",
    "- drug prescription history (`person_ID`, `drug_prescribed`, `date_of_prescription`). \n",
    "\n",
    "You are interested in finding all patients of ages 18 to 50 with a prescription for a short-acting stimulant. \n",
    "\n",
    "You have narrowed your list down to 10 stimulants but, upon skimming through the drug prescription table, you find multiple variations of each stimulant. For example, for the drug ingredient ‘Focalin’ you find the following variations: \n",
    "|drug_name|\n",
    "|---|\n",
    "|Focalin XR|\n",
    "|Focalin XR 10 mg oral capsule, extended release|\n",
    "|Focalin XR 15 mg oral capsule, extended release|\n",
    "|Focalin XR 20 mg oral capsule, extended release|\n",
    "|Focalin XR 20mg|\n",
    "|Focalin XR 30 mg oral capsule, extended release|\n",
    "|Focalin XR 35 mg oral capsule, extended release|\n",
    "|Focalin XR 5 mg oral capsule, extended release|\n",
    "\n",
    "The table is very long and you do not have time or expertise to look through it and find all of the variations for each drug."
   ]
  },
  {
   "attachments": {},
   "cell_type": "markdown",
   "metadata": {},
   "source": [
    "You realize you are missing a table in your database that would allow you to answer your question.\n",
    " \n",
    "- Describe the columns that this missing table should have and the relationship between them (hint: it has two columns). \n",
    "\n",
    "- What columns would this table have in common with the other tables in the database? (10 points)\n",
    "\n",
    "<span style=\"color:blue;\"> \n",
    "\n",
    "Column 1: drug_name (brand name prescribed) This is the exact string from the prescription table above. \n",
    "\n",
    "Column 2: drug_class. This is the drug ingredient: each ingredient is mapped to multiple drugnames (i.e., Focalin).\n",
    "\n",
    "The column drug_name would be in common with the drug prescription history table, as it will be used to reconcile the multiple variations of each stimulant by classifying them under the same drug_class.  </span>"
   ]
  },
  {
   "attachments": {},
   "cell_type": "markdown",
   "metadata": {},
   "source": [
    "---"
   ]
  },
  {
   "attachments": {},
   "cell_type": "markdown",
   "metadata": {},
   "source": [
    "# 3. How data (and biases) are born (`40 points`)"
   ]
  },
  {
   "attachments": {},
   "cell_type": "markdown",
   "metadata": {},
   "source": [
    "### Instructions ☑️\n",
    "**This question should get you thinking about where and how different kinds of data are generated, and how that also generates the biases that come with them. Read the following prompts and answer the questions in the specified locations.**"
   ]
  },
  {
   "attachments": {},
   "cell_type": "markdown",
   "metadata": {},
   "source": [
    "## `3.1:  ` (`8 points`)\n",
    "> A healthcare database has a field `IS_SMOKER` for each patient.\n",
    "\n",
    "- How do you believe this information would be measured and put into the database?\n",
    "\n",
    "<span style=\"color:blue;\"> This information would be measured via self reporting, a questionarre, or being asked in clinic by clinician. </span>"
   ]
  },
  {
   "attachments": {},
   "cell_type": "markdown",
   "metadata": {},
   "source": [
    "## `3.2:  ` (`8 points`)\n",
    "\n",
    "> You want to do an analysis looking at the prevelence of smoking, and you are thinking about utilizing the `IS_SMOKER` field to identify patients that actively smoke.\n",
    "\n",
    "- What are the factors that might cause either over-reporting of smoking (more people are marked as smokers in the database than there actually are) or under-reporting of smoking (the opposite)?\n",
    "\n",
    "- Do you think it is more likely that smoking is over or under-reported? Provide a brief explanation of your thinking.\n",
    "\n",
    "\n",
    "<span style=\"color:blue;\"> Many factors can result in under-reporting. For instance, since there is a stigma around smoking in the US as a result of its clear negative health effects, even if a patient is a smoker, they may not admit that to their doctor, resulting in a case of under-reporting of smoking. Conversely, teens or younger adults may report that they smoke to seem 'cool' which would result in a case of over-reporting. I believe that it is more likely that smoking is under-reported than over-reported. This is because there is such a stigma around smoking in the US, as well as across different cultural and religious groups, which would motivate many different demographic groups to not report their smoking. \n",
    " </span>"
   ]
  },
  {
   "attachments": {},
   "cell_type": "markdown",
   "metadata": {},
   "source": [
    "## `3.3:  ` (`8 points`)\n",
    "\n",
    "> The data you are utilizing for the analysis has patients from many different backgrounds.\n",
    "\n",
    "- Can you think of any patient populations that might have more under- or over-reporting of their smoking than others? Please briefly explain your reasoning.\n",
    "\n",
    "\n",
    "<span style=\"color:blue;\"> In many cultural and religious backgrounds, smoking is considered taboo so these patients would be more susceptible to under-reporting their smoking. Also, pregnant women would be a patient population in the under-reporting category as they would most likely be afraid to disclose to their doctors that they are smoking during their pregnancy (clear negative side effects for child). In contrast, as mentioned above, young adults and children would be a patient population that might have more over-reporting than others to look 'cool'. Also, if someone who was previously a smoker and marked as such in the database then quit, this would be a case of over-reporting as well.  </span>"
   ]
  },
  {
   "attachments": {},
   "cell_type": "markdown",
   "metadata": {},
   "source": [
    "## `3.4:  ` (`8 points`)\n",
    "\n",
    "> You calculate the correlation between smoking and year of birth between 1980 and 2010. \n",
    "\n",
    "- What do you think the relationship between these two variables is? \n",
    "\n",
    "- Based on your answers above, do you think the true correlation is stronger or weaker than the what you calculated?\n",
    "\n",
    "\n",
    "<span style=\"color:blue;\"> Negative correlation. This is because as a result of greater educational programming about the harmful effects of smoking, smoking rates have decreased over time so individuals born closer to 2010 are less likely to smoke than those born closer to 1980. The reasons described above suggest that the true correlation is most likely weaker than what is calculated, as there are cases of over-reporting of young adults and under-reporting of older adults as well.  </span>"
   ]
  },
  {
   "attachments": {},
   "cell_type": "markdown",
   "metadata": {},
   "source": [
    "## `3.5:  ` (`8 points`)\n",
    "\n",
    "> Sometimes a data element of interest does not appear in the data you have access to. A possible work-around is to use a proxy data element known to be correlated with the data element of interest. For example, [Frankovich et al.](http://www.snubi.org/~juhan/Futurefile/Evidence-Based%20Medicine%20in%20the%20EMR%20Era.pdf) used aspirin records as a proxy for antiphospholipid antibody labs.\n",
    "\n",
    "- What are some strategies you might use to assess or choose a proxy for a variable of interest? (any variable, not just the `IS_SMOKER` field mentioned in previous question parts)\n",
    "\n",
    "\n",
    "<span style=\"color:blue;\"> First, you can look for clinical measurements or medications (labs, prescriptions, diagnosis, etc) that are associated, or occur in parallel, with the variable of interest. For example, metforin and insulin prescriptions can be used for a proxy that a patient has type 2 diabetes. In a similar manner, vitals or lab measurements can be used as a proxy for a variable of interest: namely, HbA1c / glucose levels to assess for diabetic patients. Another approach would be to analyze ICD or CPT codes for diseases or procedures that are associated with the data element of interest. You can also assess correlation via expert chart review. It is important to have an expert clinician involved in the study to design and identify new proxxies (having an expert in the loop). In addition, you can also use alternative data sources that have the variable of interest and then find the correlates from there.  </span>"
   ]
  },
  {
   "attachments": {},
   "cell_type": "markdown",
   "metadata": {},
   "source": [
    "---"
   ]
  },
  {
   "attachments": {},
   "cell_type": "markdown",
   "metadata": {},
   "source": [
    "## Feedback (`0 points`)\n",
    "\n",
    "Please fill out the following [feedback form](https://docs.google.com/forms/d/e/1FAIpQLSfw9KcCsR0VoxBQqCf0aue6Na0IzT23ZfBRQ527o-G2Jr_itQ/viewform?usp=header) so we can improve the course for future students!"
   ]
  },
  {
   "attachments": {},
   "cell_type": "markdown",
   "metadata": {},
   "source": [
    "---"
   ]
  }
 ],
 "metadata": {
  "kernelspec": {
   "display_name": "Python 3 (ipykernel)",
   "language": "python",
   "name": "python3"
  },
  "language_info": {
   "codemirror_mode": {
    "name": "ipython",
    "version": 3
   },
   "file_extension": ".py",
   "mimetype": "text/x-python",
   "name": "python",
   "nbconvert_exporter": "python",
   "pygments_lexer": "ipython3",
   "version": "3.13.5"
  }
 },
 "nbformat": 4,
 "nbformat_minor": 4
}
